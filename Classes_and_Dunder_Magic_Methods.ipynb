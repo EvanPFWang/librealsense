{
  "cells": [
    {
      "cell_type": "markdown",
      "metadata": {
        "id": "view-in-github",
        "colab_type": "text"
      },
      "source": [
        "<a href=\"https://colab.research.google.com/github/EvanPFWang/librealsense/blob/master/Classes_and_Dunder_Magic_Methods.ipynb\" target=\"_parent\"><img src=\"https://colab.research.google.com/assets/colab-badge.svg\" alt=\"Open In Colab\"/></a>"
      ]
    },
    {
      "cell_type": "markdown",
      "metadata": {
        "id": "GWLeoP1woBiC"
      },
      "source": [
        "# Classes\n",
        "\n",
        "## Double Underscore (\"Dunder\" or \"Magic\") Methods\n",
        "\n",
        "Methods that start and end with double underscores have special meaning in Python. They may specify the \"constructor\" function, provide a mechanism for operator \"overloading\" (like using +, \\*, etc.), and carry out string conversion.\n",
        "\n",
        "## Partial List of Methods:\n",
        "\n",
        "1. `__init__(self)`: constructor: used to create an instance\n",
        "2. `__str__(self)`: called when instance is converted to str, as is done by the print function most \n",
        "3. `__repr__(self)`: string representation for use in debugging (for example), evaluating in interactive shell\n",
        "4. `__eq__(self)`: specifies how `==` behaves (what is necessary for two instances to be equal?)\n",
        "\n",
        "Here's an example:"
      ]
    },
    {
      "cell_type": "code",
      "execution_count": null,
      "metadata": {
        "id": "Hn9I8eLnoBiD"
      },
      "outputs": [],
      "source": [
        "class Student:\n",
        "    def __init__(self, netid, first, last):\n",
        "        self.netid = netid\n",
        "        self.first = first\n",
        "        self.last = last\n",
        "    \n",
        "    def __str__(self):\n",
        "        # string representation (human readable)\n",
        "        return f\"{self.first} {self.last}\"\n",
        "    \n",
        "    def __repr__(self):\n",
        "        # string represenation of the actual object (for debugging purposes)\n",
        "        return f\"Student(netid={self.netid},first={self.first},last={self.last})\"\n",
        "    \n",
        "    def __eq__(self, other):\n",
        "        return self.netid == other.netid\n"
      ]
    },
    {
      "cell_type": "code",
      "execution_count": null,
      "metadata": {
        "id": "L4E_AmqvoBiE"
      },
      "outputs": [],
      "source": [
        "# __init__ called\n",
        "s = Student('cb2312', 'Charlie', 'Brown')"
      ]
    },
    {
      "cell_type": "code",
      "execution_count": null,
      "metadata": {
        "id": "SxUGTbLBoBiE",
        "outputId": "db2acd21-faeb-4531-a08c-7c77cdbdbb4e",
        "colab": {
          "base_uri": "https://localhost:8080/"
        }
      },
      "outputs": [
        {
          "output_type": "stream",
          "name": "stdout",
          "text": [
            "Charlie Brown\n"
          ]
        }
      ],
      "source": [
        "# __str__ called...\n",
        "print(s)"
      ]
    },
    {
      "cell_type": "code",
      "execution_count": null,
      "metadata": {
        "id": "2pMvbuEQoBiF",
        "outputId": "eb3b4a48-29e4-4671-e31b-5e5cf9a00de7",
        "colab": {
          "base_uri": "https://localhost:8080/"
        }
      },
      "outputs": [
        {
          "output_type": "execute_result",
          "data": {
            "text/plain": [
              "Student(netid=cb2312,first=Charlie,last=Brown)"
            ]
          },
          "metadata": {},
          "execution_count": 4
        }
      ],
      "source": [
        "# __repr__ called\n",
        "s"
      ]
    },
    {
      "cell_type": "code",
      "execution_count": null,
      "metadata": {
        "id": "5VX3TIb5oBiF"
      },
      "outputs": [],
      "source": [
        "# defining __eq__ such that same netids mean same student:\n",
        "clone = Student('cb2312', 'Charles', 'Brown')\n",
        "s == clone"
      ]
    },
    {
      "cell_type": "markdown",
      "metadata": {
        "id": "5WaBOd6boBiF"
      },
      "source": [
        "### Another Class Example\n",
        "\n",
        "1. \"Static\" Methods: methods that can be called on class name rather than instance\n",
        "2. `__add__`: overloads the + operator\n",
        "3. `__getitem__` overload the  [] (index) operator\n",
        "\n",
        "Note... there are many more magic methods, like `__mult__`,`__or__`, etc. See [this page](https://www.python-course.eu/python3_magic_methods.php), for example."
      ]
    },
    {
      "cell_type": "code",
      "execution_count": null,
      "metadata": {
        "id": "wCk_QbkvoBiF"
      },
      "outputs": [],
      "source": [
        "class Fraction:\n",
        "\n",
        "    def __init__(self, n, d):\n",
        "        self.n = n\n",
        "        self.d = d\n",
        "\n",
        "    # this means that this method can be called without an instance\n",
        "    # and consequently, no self is needed\n",
        "    # instead, you call it using the actual class name\n",
        "    # Fraction.gcf(a,b)\n",
        "    # note the use of a decorator to create this\n",
        "    @staticmethod \n",
        "    def gcf(a, b):\n",
        "        # go through every possible factor\n",
        "        # check if it divides evenly into both\n",
        "        # return the largest one\n",
        "        cur_gcf = 1\n",
        "        for factor in range(1, min(a,b)+1):\n",
        "            if a % factor == 0 and b % factor == 0:\n",
        "                cur_gcf = factor\n",
        "        return cur_gcf\n",
        "\n",
        "    def reduce(self):\n",
        "        gcf = Fraction.gcf(self.n, self.d)\n",
        "        return Fraction(self.n // gcf, self.d // gcf)\n",
        "\n",
        "    def __str__(self):\n",
        "        return \"{}/{}\".format(self.n, self.d)\n",
        "\n",
        "    def __repr__(self):\n",
        "        # we can call methods that are already defined\n",
        "        return self.__str__()\n",
        "\n",
        "    def add(self, other):\n",
        "        new_n = (self.n * other.d) + (other.n * self.d)\n",
        "        new_d = self.d * other.d\n",
        "        return Fraction(new_n, new_d)\n",
        "\n",
        "    def __add__(self, other):\n",
        "        return self.add(other)\n",
        "\n",
        "    # allow indexing! Indexing with 0 gives back the numerator\n",
        "    # while indexing with 1 gives back the denominator...\n",
        "    # any other index will result in an IndexError\n",
        "    def __getitem__(self, other):\n",
        "        if other == 0:\n",
        "            return self.n\n",
        "        elif other == 1:\n",
        "            return self.d\n",
        "        else:\n",
        "            raise IndexError('Index must be 0 or 1')\n",
        "        \n",
        "    def __eq__(self, other):\n",
        "        return self.reduce().n == other.reduce().n and self.reduce().d == other.reduce().d\n"
      ]
    },
    {
      "cell_type": "code",
      "execution_count": null,
      "metadata": {
        "id": "sEj7lxHpoBiF"
      },
      "outputs": [],
      "source": [
        "a = Fraction(1, 2)\n",
        "b = Fraction(6, 8)\n",
        "c = Fraction(1, 3)\n",
        "print(f'a:{a}, b:{b}, c:{c}')"
      ]
    },
    {
      "cell_type": "code",
      "execution_count": null,
      "metadata": {
        "id": "pa2W-65LoBiF"
      },
      "outputs": [],
      "source": [
        "# indexing\n",
        "print(b[0], b[1])"
      ]
    },
    {
      "cell_type": "code",
      "execution_count": null,
      "metadata": {
        "id": "cyXCa2G_oBiG"
      },
      "outputs": [],
      "source": [
        "try:\n",
        "    print(a[987])\n",
        "except IndexError as e:\n",
        "    print(type(e), e)"
      ]
    },
    {
      "cell_type": "code",
      "execution_count": null,
      "metadata": {
        "id": "o4wuG2OGoBiG"
      },
      "outputs": [],
      "source": [
        "a.add(c)"
      ]
    },
    {
      "cell_type": "code",
      "execution_count": null,
      "metadata": {
        "id": "HRfZTsbgoBiG"
      },
      "outputs": [],
      "source": [
        "# calls __add__\n",
        "a + c"
      ]
    },
    {
      "cell_type": "code",
      "execution_count": null,
      "metadata": {
        "id": "bvQsOeVJoBiG"
      },
      "outputs": [],
      "source": [
        "# calls __eq__\n",
        "a == c"
      ]
    },
    {
      "cell_type": "code",
      "execution_count": null,
      "metadata": {
        "id": "XbL3w7V7oBiG"
      },
      "outputs": [],
      "source": [
        "# calls __eq__\n",
        "a == Fraction(1, 2)"
      ]
    },
    {
      "cell_type": "code",
      "execution_count": null,
      "metadata": {
        "id": "ThomcEFOoBiG"
      },
      "outputs": [],
      "source": [
        "# static method... note tha it is called on class\n",
        "# rather than on instance\n",
        "Fraction.gcf(9, 12)"
      ]
    },
    {
      "cell_type": "code",
      "execution_count": null,
      "metadata": {
        "id": "wVAkBUFHoBiG"
      },
      "outputs": [],
      "source": [
        "Fraction(4, 8).reduce()"
      ]
    },
    {
      "cell_type": "code",
      "source": [
        "e=Fraction(4,8)\n",
        "print(a)\n",
        "print(e)\n",
        "print(a==e)"
      ],
      "metadata": {
        "id": "1hQDJo49vioV"
      },
      "execution_count": null,
      "outputs": []
    },
    {
      "cell_type": "markdown",
      "source": [
        "Ed Exercise\n",
        "\n",
        "Rewrite the \\_\\_eq\\_\\_ method so that 1/2 and 4/8 are considered equal."
      ],
      "metadata": {
        "id": "46LRxtbYwvta"
      }
    }
  ],
  "metadata": {
    "kernelspec": {
      "display_name": "Python 3",
      "language": "python",
      "name": "python3"
    },
    "language_info": {
      "codemirror_mode": {
        "name": "ipython",
        "version": 3
      },
      "file_extension": ".py",
      "mimetype": "text/x-python",
      "name": "python",
      "nbconvert_exporter": "python",
      "pygments_lexer": "ipython3",
      "version": "3.8.10"
    },
    "colab": {
      "provenance": [],
      "include_colab_link": true
    }
  },
  "nbformat": 4,
  "nbformat_minor": 0
}